{
  "nbformat": 4,
  "nbformat_minor": 0,
  "metadata": {
    "colab": {
      "provenance": []
    },
    "kernelspec": {
      "name": "python3",
      "display_name": "Python 3"
    },
    "language_info": {
      "name": "python"
    }
  },
  "cells": [
    {
      "cell_type": "markdown",
      "source": [
        "**Buenos días** estoy aprendiendo Python, me siento perdida ♍."
      ],
      "metadata": {
        "id": "opHbum7VlhTw"
      }
    },
    {
      "cell_type": "code",
      "execution_count": null,
      "metadata": {
        "id": "T7cf-QWOjT3_",
        "colab": {
          "base_uri": "https://localhost:8080/"
        },
        "outputId": "4d7f1deb-c449-4177-a6c4-f130a323b9ad"
      },
      "outputs": [
        {
          "output_type": "stream",
          "name": "stdout",
          "text": [
            "Ojala esto me sirve para ser muy pro\n"
          ]
        }
      ],
      "source": [
        "#Esto es una broma, pero si quiero ser muy pro\n",
        "print(\"Ojala esto me sirve para ser muy pro\")"
      ]
    },
    {
      "cell_type": "code",
      "source": [
        "#Este soy yo\n",
        "print(\"Hola me llamo Dianela Quimbayo, tengo 30 año, soy psicologa y me gustaria escribir un libro\")"
      ],
      "metadata": {
        "colab": {
          "base_uri": "https://localhost:8080/"
        },
        "id": "h_0FSKQrmnGV",
        "outputId": "53b09404-e4b5-4b81-a6f4-10772f3ffeea"
      },
      "execution_count": null,
      "outputs": [
        {
          "output_type": "stream",
          "name": "stdout",
          "text": [
            "Hola me llamo Dianela Quimbayo, tengo 30 año, soy psicologa y me gustaria escribir un libro\n"
          ]
        }
      ]
    },
    {
      "cell_type": "code",
      "source": [
        "print(\"Y esta copa la levanto y salucita pa todos los envidiosos, que les duele que una persona humilde ahora viva bien sabroso, bien contentoso\")"
      ],
      "metadata": {
        "colab": {
          "base_uri": "https://localhost:8080/"
        },
        "id": "jFGgk4y8nPRX",
        "outputId": "49a9d5eb-84c9-4ffe-b94e-d5e914584962"
      },
      "execution_count": null,
      "outputs": [
        {
          "output_type": "stream",
          "name": "stdout",
          "text": [
            "Y esta copa la levanto y salucita pa todos los envidiosos, que les duele que una persona humilde ahora viva bien sabroso, bien contentoso\n"
          ]
        }
      ]
    },
    {
      "cell_type": "markdown",
      "source": [],
      "metadata": {
        "id": "v49W8hC7oDYO"
      }
    },
    {
      "cell_type": "markdown",
      "source": [],
      "metadata": {
        "id": "WhACJIFMoCtX"
      }
    },
    {
      "cell_type": "code",
      "source": [
        "#Tipo de dato entero, en ingles es integer y la abreviatura para Python en int\n",
        "type(45)"
      ],
      "metadata": {
        "colab": {
          "base_uri": "https://localhost:8080/"
        },
        "id": "unmEI-M7oCIV",
        "outputId": "43c8070e-4efb-49bf-ad45-efc0a52a6105"
      },
      "execution_count": null,
      "outputs": [
        {
          "output_type": "execute_result",
          "data": {
            "text/plain": [
              "int"
            ]
          },
          "metadata": {},
          "execution_count": 81
        }
      ]
    },
    {
      "cell_type": "code",
      "source": [
        "#tipo de dato flotante que en español lo conocemos en español, lo conocemos como decimal, su abreviatura es float\n",
        "type(9.5)"
      ],
      "metadata": {
        "colab": {
          "base_uri": "https://localhost:8080/"
        },
        "id": "4PekK84spWbw",
        "outputId": "8c8bc78f-dc30-4112-ff47-1d3901383752"
      },
      "execution_count": null,
      "outputs": [
        {
          "output_type": "execute_result",
          "data": {
            "text/plain": [
              "float"
            ]
          },
          "metadata": {},
          "execution_count": 82
        }
      ]
    },
    {
      "cell_type": "code",
      "source": [
        "#Boleanos, son tipos de datos que solo pueden tener dos valores el True (verdadero) o False (falso), su abreviatura es bool\n",
        "type(True)"
      ],
      "metadata": {
        "colab": {
          "base_uri": "https://localhost:8080/"
        },
        "id": "ycfKVkuvpjTC",
        "outputId": "8edc523c-02ce-4de4-eccb-6fc39bdab9b8"
      },
      "execution_count": null,
      "outputs": [
        {
          "output_type": "execute_result",
          "data": {
            "text/plain": [
              "bool"
            ]
          },
          "metadata": {},
          "execution_count": 83
        }
      ]
    },
    {
      "cell_type": "code",
      "source": [
        "#tipos de datos cadena, en ingles stings, siempre deben tener comillas, su abreviatura es str\n",
        "type(\"En un lugar de la mancha de cuyo nombre no puedo acordarme...\")"
      ],
      "metadata": {
        "colab": {
          "base_uri": "https://localhost:8080/"
        },
        "id": "3LDMJXHbqFRP",
        "outputId": "f688b436-043b-4e93-8ab1-56ba1e340318"
      },
      "execution_count": null,
      "outputs": [
        {
          "output_type": "execute_result",
          "data": {
            "text/plain": [
              "str"
            ]
          },
          "metadata": {},
          "execution_count": 84
        }
      ]
    },
    {
      "cell_type": "markdown",
      "source": [
        "Metodos de las cadenas, las cadenas tienen funciones pequeñas que me ayudan a formatearlas"
      ],
      "metadata": {
        "id": "K84ogqQWqZLH"
      }
    },
    {
      "cell_type": "code",
      "source": [
        "print(\"Hola estoy aprendiendo Python\".upper())#Este metodo me sirve para poner Mayúsculas\n",
        "print(\"#coN pYthon Puedo PeDir AumenTo\".lower())#Con este metodo puedo pomer minusculas\n",
        "print(\"los amigos del hombre\".title())#Así puedo poner las primeras letras en Mayúscuña"
      ],
      "metadata": {
        "colab": {
          "base_uri": "https://localhost:8080/"
        },
        "id": "qtXdc9ogqgdt",
        "outputId": "966272de-2215-45a3-efc9-ed1225dad397"
      },
      "execution_count": null,
      "outputs": [
        {
          "output_type": "stream",
          "name": "stdout",
          "text": [
            "HOLA ESTOY APRENDIENDO PYTHON\n",
            "#con python puedo pedir aumento\n",
            "Los Amigos Del Hombre\n"
          ]
        }
      ]
    },
    {
      "cell_type": "code",
      "source": [
        "#Para contar las letras de una cadena puedo usar el metodo count\n",
        "print(\"Que hay que hacer para poder aprender python sin estudiar\".count(\"a\"))"
      ],
      "metadata": {
        "colab": {
          "base_uri": "https://localhost:8080/"
        },
        "id": "GyGXb1EBr6vo",
        "outputId": "72ce087a-c937-4698-ceee-aa0d0f854d68"
      },
      "execution_count": null,
      "outputs": [
        {
          "output_type": "stream",
          "name": "stdout",
          "text": [
            "6\n"
          ]
        }
      ]
    },
    {
      "cell_type": "code",
      "source": [
        "print(\"\"\"Mi edad es 30 años\n",
        "Mi género es femenino\"\"\")"
      ],
      "metadata": {
        "colab": {
          "base_uri": "https://localhost:8080/"
        },
        "id": "vhRGkR_pslCv",
        "outputId": "60ac9e02-9c80-4a33-a548-602852e3c4ef"
      },
      "execution_count": null,
      "outputs": [
        {
          "output_type": "stream",
          "name": "stdout",
          "text": [
            "Mi edad es 30 años\n",
            "Mi género es femenino\n"
          ]
        }
      ]
    },
    {
      "cell_type": "code",
      "source": [
        "#Cómo remplazar un valor dentro de una cadena utilizando replace\n",
        "print(\"Hola soy dianela quimbayo garzon\".replace(\"a\",\"A\"))"
      ],
      "metadata": {
        "colab": {
          "base_uri": "https://localhost:8080/"
        },
        "id": "hWaPotJ0s5ns",
        "outputId": "31a1c554-b938-42c1-8fb3-6c1ef471ebc6"
      },
      "execution_count": null,
      "outputs": [
        {
          "output_type": "stream",
          "name": "stdout",
          "text": [
            "HolA soy diAnelA quimbAyo gArzon\n"
          ]
        }
      ]
    },
    {
      "cell_type": "code",
      "source": [
        "print(\"dianela andrea quimbayo garzon\".replace(\"d\",\"D\"))"
      ],
      "metadata": {
        "colab": {
          "base_uri": "https://localhost:8080/"
        },
        "id": "hwDeckAvti9s",
        "outputId": "d43f4213-9848-4bf6-cd54-6be92af5c839"
      },
      "execution_count": null,
      "outputs": [
        {
          "output_type": "stream",
          "name": "stdout",
          "text": [
            "Dianela anDrea quimbayo garzon\n"
          ]
        }
      ]
    },
    {
      "cell_type": "code",
      "source": [
        "print(\"dianela andrea quimbayo garzon\".replace(\"a\",\"A\"))"
      ],
      "metadata": {
        "colab": {
          "base_uri": "https://localhost:8080/"
        },
        "id": "ldRIJd7GuCxr",
        "outputId": "923676fb-e1aa-406c-9675-df922102dda5"
      },
      "execution_count": null,
      "outputs": [
        {
          "output_type": "stream",
          "name": "stdout",
          "text": [
            "diAnelA AndreA quimbAyo gArzon\n"
          ]
        }
      ]
    },
    {
      "cell_type": "markdown",
      "source": [
        "**Variables:**\n",
        "Son espacios de memoria que nos sirven para guardas información particular, deben tener información particular deben tener un nombre que nos ayude a identificar su contenido"
      ],
      "metadata": {
        "id": "RxXlkAFduHie"
      }
    },
    {
      "cell_type": "code",
      "source": [
        "#Para declarar una variable se una nombre de la variable, el signo igual y el valor\n",
        "#ejemplo: edad=23\n",
        "nombre=\"Dianela Andrea\"\n",
        "apellido=\"Quimbayo Garzon\"\n",
        "edad=30\n",
        "estado_civil=\"soltero\""
      ],
      "metadata": {
        "id": "3AcLy1V5uY9N"
      },
      "execution_count": null,
      "outputs": []
    },
    {
      "cell_type": "code",
      "source": [
        "nombre"
      ],
      "metadata": {
        "colab": {
          "base_uri": "https://localhost:8080/",
          "height": 35
        },
        "id": "gEBq7SvJu-GH",
        "outputId": "6870f967-061a-42a6-bf98-4f7877abf59e"
      },
      "execution_count": null,
      "outputs": [
        {
          "output_type": "execute_result",
          "data": {
            "text/plain": [
              "'Dianela Andrea'"
            ],
            "application/vnd.google.colaboratory.intrinsic+json": {
              "type": "string"
            }
          },
          "metadata": {},
          "execution_count": 92
        }
      ]
    },
    {
      "cell_type": "code",
      "source": [
        "apellido"
      ],
      "metadata": {
        "colab": {
          "base_uri": "https://localhost:8080/",
          "height": 35
        },
        "id": "UKEjIDBVvBFH",
        "outputId": "28c51409-452a-4830-9c31-72848d54b057"
      },
      "execution_count": null,
      "outputs": [
        {
          "output_type": "execute_result",
          "data": {
            "text/plain": [
              "'Quimbayo Garzon'"
            ],
            "application/vnd.google.colaboratory.intrinsic+json": {
              "type": "string"
            }
          },
          "metadata": {},
          "execution_count": 93
        }
      ]
    },
    {
      "cell_type": "code",
      "source": [
        "edad"
      ],
      "metadata": {
        "colab": {
          "base_uri": "https://localhost:8080/"
        },
        "id": "0bpTrWtYvDcG",
        "outputId": "fe7b4a31-4084-4c68-ce0b-f03c839f81e3"
      },
      "execution_count": null,
      "outputs": [
        {
          "output_type": "execute_result",
          "data": {
            "text/plain": [
              "30"
            ]
          },
          "metadata": {},
          "execution_count": 94
        }
      ]
    },
    {
      "cell_type": "code",
      "source": [
        "estado_civil"
      ],
      "metadata": {
        "colab": {
          "base_uri": "https://localhost:8080/",
          "height": 35
        },
        "id": "13pYJC7RvFiA",
        "outputId": "dbd32b54-e33b-4c6a-f71b-616b8f8bfb01"
      },
      "execution_count": null,
      "outputs": [
        {
          "output_type": "execute_result",
          "data": {
            "text/plain": [
              "'soltero'"
            ],
            "application/vnd.google.colaboratory.intrinsic+json": {
              "type": "string"
            }
          },
          "metadata": {},
          "execution_count": 95
        }
      ]
    },
    {
      "cell_type": "code",
      "source": [
        "#nombre de mi hijo\n",
        "hijo_nombre=\"Milo\"\n",
        "hijo_apellido=\"Quimbayo\""
      ],
      "metadata": {
        "id": "-W2rt6-kvJ3O"
      },
      "execution_count": null,
      "outputs": []
    },
    {
      "cell_type": "code",
      "source": [
        "hijo_apellido=\"verdades\""
      ],
      "metadata": {
        "id": "EK25a3Ugvf5A"
      },
      "execution_count": null,
      "outputs": []
    },
    {
      "cell_type": "code",
      "source": [
        "hijo_apellido"
      ],
      "metadata": {
        "colab": {
          "base_uri": "https://localhost:8080/",
          "height": 35
        },
        "id": "eu6Ocpzbvl9H",
        "outputId": "b4aa96ad-f0ea-476f-9be0-2ed355fa665d"
      },
      "execution_count": null,
      "outputs": [
        {
          "output_type": "execute_result",
          "data": {
            "text/plain": [
              "'verdades'"
            ],
            "application/vnd.google.colaboratory.intrinsic+json": {
              "type": "string"
            }
          },
          "metadata": {},
          "execution_count": 98
        }
      ]
    },
    {
      "cell_type": "code",
      "source": [
        "#Esta es una variable con un mensaje\n",
        "mensaje_1=\"Ahora que se python Alexandre no me va a ganar\""
      ],
      "metadata": {
        "id": "3KAb6T-q1Ir2"
      },
      "execution_count": null,
      "outputs": []
    },
    {
      "cell_type": "code",
      "source": [
        "mensaje_1"
      ],
      "metadata": {
        "colab": {
          "base_uri": "https://localhost:8080/",
          "height": 35
        },
        "id": "MmALelcW1hok",
        "outputId": "36d1e26a-cc7d-43ef-f878-196ddbc1b041"
      },
      "execution_count": null,
      "outputs": [
        {
          "output_type": "execute_result",
          "data": {
            "text/plain": [
              "'Ahora que se python Alexandre no me va a ganar'"
            ],
            "application/vnd.google.colaboratory.intrinsic+json": {
              "type": "string"
            }
          },
          "metadata": {},
          "execution_count": 100
        }
      ]
    },
    {
      "cell_type": "code",
      "source": [
        "#Acá no solo guarde la variable si no que la mostre de una vez\n",
        "mensaje_2=\"Porque yo voy con toda\"\n",
        "mensaje_2"
      ],
      "metadata": {
        "colab": {
          "base_uri": "https://localhost:8080/",
          "height": 35
        },
        "id": "etQvgRXX1maE",
        "outputId": "e1342ecd-ad88-4b0f-a4a3-f118118f514e"
      },
      "execution_count": null,
      "outputs": [
        {
          "output_type": "execute_result",
          "data": {
            "text/plain": [
              "'Porque yo voy con toda'"
            ],
            "application/vnd.google.colaboratory.intrinsic+json": {
              "type": "string"
            }
          },
          "metadata": {},
          "execution_count": 101
        }
      ]
    },
    {
      "cell_type": "code",
      "source": [
        "#Así concateno\n",
        "mensaje_1+\" \"+mensaje_2"
      ],
      "metadata": {
        "colab": {
          "base_uri": "https://localhost:8080/",
          "height": 35
        },
        "id": "hqeTeRZT17kz",
        "outputId": "d77fc8bd-de40-4f1d-dc4c-d8f7509c2812"
      },
      "execution_count": null,
      "outputs": [
        {
          "output_type": "execute_result",
          "data": {
            "text/plain": [
              "'Ahora que se python Alexandre no me va a ganar Porque yo voy con toda'"
            ],
            "application/vnd.google.colaboratory.intrinsic+json": {
              "type": "string"
            }
          },
          "metadata": {},
          "execution_count": 102
        }
      ]
    },
    {
      "cell_type": "code",
      "source": [
        "espacio=\" \""
      ],
      "metadata": {
        "id": "tPrYI13x2mHd"
      },
      "execution_count": null,
      "outputs": []
    },
    {
      "cell_type": "code",
      "source": [
        "mensaje_1+espacio+mensaje_2"
      ],
      "metadata": {
        "colab": {
          "base_uri": "https://localhost:8080/",
          "height": 35
        },
        "id": "G5zJZh2W2qsU",
        "outputId": "df16abbb-8099-40f0-b31d-74ed5ebc45a3"
      },
      "execution_count": null,
      "outputs": [
        {
          "output_type": "execute_result",
          "data": {
            "text/plain": [
              "'Ahora que se python Alexandre no me va a ganar Porque yo voy con toda'"
            ],
            "application/vnd.google.colaboratory.intrinsic+json": {
              "type": "string"
            }
          },
          "metadata": {},
          "execution_count": 104
        }
      ]
    },
    {
      "cell_type": "code",
      "source": [
        "#Así guardo la concatenación dentro de una variable\n",
        "mensaje_completo=mensaje_1+espacio+mensaje_2\n",
        "mensaje_completo"
      ],
      "metadata": {
        "colab": {
          "base_uri": "https://localhost:8080/",
          "height": 35
        },
        "id": "he6THDfV22o0",
        "outputId": "4e0e4278-bcb3-4119-8532-aa602301e909"
      },
      "execution_count": null,
      "outputs": [
        {
          "output_type": "execute_result",
          "data": {
            "text/plain": [
              "'Ahora que se python Alexandre no me va a ganar Porque yo voy con toda'"
            ],
            "application/vnd.google.colaboratory.intrinsic+json": {
              "type": "string"
            }
          },
          "metadata": {},
          "execution_count": 105
        }
      ]
    },
    {
      "cell_type": "markdown",
      "source": [
        "<!-- <!-- **Listas, son tipos de datos mutables y ordenados, son las más usadas al trabajar con datos, declarar una lista uso los corchotes cuadrados []"
      ],
      "metadata": {
        "id": "1E25woCy38p7"
      }
    },
    {
      "cell_type": "code",
      "source": [
        "#Listas: las listas se definen como el siguiente ejemplo\n",
        "#datos=[\"dianea\",\"andrea\",\"quimbayo\",\"garzon\",30,\"soltera,\"1.55\"]\n",
        "Paises=[\"Colombia\",\"Ecuador\",\"Mexico\",\"China\",\"Francia\",\"Paraguay\"]\n",
        "Paises"
      ],
      "metadata": {
        "colab": {
          "base_uri": "https://localhost:8080/"
        },
        "id": "YLlZJZE74cMu",
        "outputId": "bdf9b9ba-7932-482f-a24f-525fae4f7806"
      },
      "execution_count": null,
      "outputs": [
        {
          "output_type": "execute_result",
          "data": {
            "text/plain": [
              "['Colombia', 'Ecuador', 'Mexico', 'China', 'Francia', 'Paraguay']"
            ]
          },
          "metadata": {},
          "execution_count": 106
        }
      ]
    },
    {
      "cell_type": "code",
      "source": [
        "#Las listas tienen indices automaticos que se generan cuando creo la lista, sin embargo, estos no son visibles hasta que los llamo\n",
        "Paises[0]"
      ],
      "metadata": {
        "colab": {
          "base_uri": "https://localhost:8080/",
          "height": 35
        },
        "id": "n6-4Ir5k5KT9",
        "outputId": "3d6ec503-485f-4df3-ba90-9c379295340a"
      },
      "execution_count": null,
      "outputs": [
        {
          "output_type": "execute_result",
          "data": {
            "text/plain": [
              "'Colombia'"
            ],
            "application/vnd.google.colaboratory.intrinsic+json": {
              "type": "string"
            }
          },
          "metadata": {},
          "execution_count": 107
        }
      ]
    },
    {
      "cell_type": "code",
      "source": [
        "Paises[-6]"
      ],
      "metadata": {
        "colab": {
          "base_uri": "https://localhost:8080/",
          "height": 35
        },
        "id": "qqvXDo8s5vtc",
        "outputId": "1bac001c-5310-48de-84a8-0a95d2bab237"
      },
      "execution_count": null,
      "outputs": [
        {
          "output_type": "execute_result",
          "data": {
            "text/plain": [
              "'Colombia'"
            ],
            "application/vnd.google.colaboratory.intrinsic+json": {
              "type": "string"
            }
          },
          "metadata": {},
          "execution_count": 108
        }
      ]
    },
    {
      "cell_type": "code",
      "source": [
        "Paises[3]"
      ],
      "metadata": {
        "colab": {
          "base_uri": "https://localhost:8080/",
          "height": 35
        },
        "id": "L1yWO0k456Bv",
        "outputId": "2811d55f-cce5-4bdf-d679-f0428e521818"
      },
      "execution_count": null,
      "outputs": [
        {
          "output_type": "execute_result",
          "data": {
            "text/plain": [
              "'China'"
            ],
            "application/vnd.google.colaboratory.intrinsic+json": {
              "type": "string"
            }
          },
          "metadata": {},
          "execution_count": 109
        }
      ]
    },
    {
      "cell_type": "code",
      "source": [
        "#llamar a Francia desde la derecha\n",
        "Paises[4]\n",
        "Paises[-2]"
      ],
      "metadata": {
        "colab": {
          "base_uri": "https://localhost:8080/",
          "height": 35
        },
        "id": "WawZUWZY6A4c",
        "outputId": "d3ef2696-7e3e-4fda-c071-d9911a905a98"
      },
      "execution_count": null,
      "outputs": [
        {
          "output_type": "execute_result",
          "data": {
            "text/plain": [
              "'Francia'"
            ],
            "application/vnd.google.colaboratory.intrinsic+json": {
              "type": "string"
            }
          },
          "metadata": {},
          "execution_count": 110
        }
      ]
    },
    {
      "cell_type": "code",
      "source": [
        "#Llamar a Francia desde la izquierda\n",
        "Paises[-2]"
      ],
      "metadata": {
        "colab": {
          "base_uri": "https://localhost:8080/",
          "height": 35
        },
        "id": "NmRES3Mi6QJ1",
        "outputId": "81d4f170-72e7-4750-8220-65d066ae6e6e"
      },
      "execution_count": null,
      "outputs": [
        {
          "output_type": "execute_result",
          "data": {
            "text/plain": [
              "'Francia'"
            ],
            "application/vnd.google.colaboratory.intrinsic+json": {
              "type": "string"
            }
          },
          "metadata": {},
          "execution_count": 111
        }
      ]
    },
    {
      "cell_type": "code",
      "source": [
        "#La técnica del slicing me permite cortar pedazos de lista y guardalos en una variable\n",
        "#Cortemos\n",
        "\n",
        "Paises[1:3]"
      ],
      "metadata": {
        "colab": {
          "base_uri": "https://localhost:8080/"
        },
        "id": "RRzKSozP6dNs",
        "outputId": "3089ea72-d4a2-4fad-dc40-f26e4f7f244f"
      },
      "execution_count": null,
      "outputs": [
        {
          "output_type": "execute_result",
          "data": {
            "text/plain": [
              "['Ecuador', 'Mexico']"
            ]
          },
          "metadata": {},
          "execution_count": 112
        }
      ]
    },
    {
      "cell_type": "code",
      "source": [
        "Corte_Paises=Paises[1:3]\n",
        "Corte_Paises"
      ],
      "metadata": {
        "colab": {
          "base_uri": "https://localhost:8080/"
        },
        "id": "hnNQtYqi68gV",
        "outputId": "6f2b6191-524c-4e17-b5cd-98db257d608d"
      },
      "execution_count": null,
      "outputs": [
        {
          "output_type": "execute_result",
          "data": {
            "text/plain": [
              "['Ecuador', 'Mexico']"
            ]
          },
          "metadata": {},
          "execution_count": 113
        }
      ]
    },
    {
      "cell_type": "code",
      "source": [
        "#Para traer la lista completa dejo en blanco despues de los puntos\n",
        "Paises[1:]"
      ],
      "metadata": {
        "colab": {
          "base_uri": "https://localhost:8080/"
        },
        "id": "S5WE8q-S7OvU",
        "outputId": "ddeade9f-1fa1-4626-c539-7d3c20c049ba"
      },
      "execution_count": null,
      "outputs": [
        {
          "output_type": "execute_result",
          "data": {
            "text/plain": [
              "['Ecuador', 'Mexico', 'China', 'Francia', 'Paraguay']"
            ]
          },
          "metadata": {},
          "execution_count": 114
        }
      ]
    },
    {
      "cell_type": "code",
      "source": [
        "#Para traer de izquierda a derecha desde el País que yo desee\n",
        "Paises[:5]"
      ],
      "metadata": {
        "colab": {
          "base_uri": "https://localhost:8080/"
        },
        "id": "grUOPnh87c7U",
        "outputId": "dda8d247-9dfa-4b9d-f4ad-cd69fd3652e1"
      },
      "execution_count": null,
      "outputs": [
        {
          "output_type": "execute_result",
          "data": {
            "text/plain": [
              "['Colombia', 'Ecuador', 'Mexico', 'China', 'Francia']"
            ]
          },
          "metadata": {},
          "execution_count": 115
        }
      ]
    },
    {
      "cell_type": "code",
      "source": [
        "#Así agrego elementos al final de una lista\n",
        "Paises.append(\"Rusia\")\n",
        "Paises"
      ],
      "metadata": {
        "colab": {
          "base_uri": "https://localhost:8080/"
        },
        "id": "jF-onmwd7rl0",
        "outputId": "7520582e-c6ed-4d08-fb91-e869274e6ac1"
      },
      "execution_count": null,
      "outputs": [
        {
          "output_type": "execute_result",
          "data": {
            "text/plain": [
              "['Colombia', 'Ecuador', 'Mexico', 'China', 'Francia', 'Paraguay', 'Rusia']"
            ]
          },
          "metadata": {},
          "execution_count": 116
        }
      ]
    },
    {
      "cell_type": "code",
      "source": [
        "#Para agregar un dato en posición de la lista que yo quiero uso insert\n",
        "Paises.insert(0,\"Venezuela\")\n",
        "Paises"
      ],
      "metadata": {
        "colab": {
          "base_uri": "https://localhost:8080/"
        },
        "id": "fUL44Zwy79V6",
        "outputId": "1fca33be-2176-433b-e5c9-a6760df0f54d"
      },
      "execution_count": null,
      "outputs": [
        {
          "output_type": "execute_result",
          "data": {
            "text/plain": [
              "['Venezuela',\n",
              " 'Colombia',\n",
              " 'Ecuador',\n",
              " 'Mexico',\n",
              " 'China',\n",
              " 'Francia',\n",
              " 'Paraguay',\n",
              " 'Rusia']"
            ]
          },
          "metadata": {},
          "execution_count": 117
        }
      ]
    },
    {
      "cell_type": "code",
      "source": [
        "#Tambien puedo concatenar listas\n",
        "Paises_Europa=[\"Italia\",\"Alemania\",\"España\",\"Portugal\",\"Polonia\"]\n",
        "Paises_Europa"
      ],
      "metadata": {
        "colab": {
          "base_uri": "https://localhost:8080/"
        },
        "id": "TX_SAA0S8j1O",
        "outputId": "863c1b37-e6f9-434a-9fd2-7b19b125ff7b"
      },
      "execution_count": null,
      "outputs": [
        {
          "output_type": "execute_result",
          "data": {
            "text/plain": [
              "['Italia', 'Alemania', 'España', 'Portugal', 'Polonia']"
            ]
          },
          "metadata": {},
          "execution_count": 118
        }
      ]
    },
    {
      "cell_type": "code",
      "source": [
        "Paises+Paises_Europa"
      ],
      "metadata": {
        "colab": {
          "base_uri": "https://localhost:8080/"
        },
        "id": "6B1t43zb823r",
        "outputId": "9477f3f9-f71e-45c2-e973-6118720dbfcd"
      },
      "execution_count": null,
      "outputs": [
        {
          "output_type": "execute_result",
          "data": {
            "text/plain": [
              "['Venezuela',\n",
              " 'Colombia',\n",
              " 'Ecuador',\n",
              " 'Mexico',\n",
              " 'China',\n",
              " 'Francia',\n",
              " 'Paraguay',\n",
              " 'Rusia',\n",
              " 'Italia',\n",
              " 'Alemania',\n",
              " 'España',\n",
              " 'Portugal',\n",
              " 'Polonia']"
            ]
          },
          "metadata": {},
          "execution_count": 119
        }
      ]
    },
    {
      "cell_type": "code",
      "source": [
        "#Guardo la concatenación de listas en una variable\n",
        "Paises_completos=Paises+Paises_Europa"
      ],
      "metadata": {
        "id": "iwh9Un-X89nc"
      },
      "execution_count": null,
      "outputs": []
    },
    {
      "cell_type": "code",
      "source": [
        "Paises_completos"
      ],
      "metadata": {
        "colab": {
          "base_uri": "https://localhost:8080/"
        },
        "id": "D5m9gQMK9JAk",
        "outputId": "996db18e-46f4-42c2-8b4b-6b62025254a8"
      },
      "execution_count": null,
      "outputs": [
        {
          "output_type": "execute_result",
          "data": {
            "text/plain": [
              "['Venezuela',\n",
              " 'Colombia',\n",
              " 'Ecuador',\n",
              " 'Mexico',\n",
              " 'China',\n",
              " 'Francia',\n",
              " 'Paraguay',\n",
              " 'Rusia',\n",
              " 'Italia',\n",
              " 'Alemania',\n",
              " 'España',\n",
              " 'Portugal',\n",
              " 'Polonia']"
            ]
          },
          "metadata": {},
          "execution_count": 121
        }
      ]
    },
    {
      "cell_type": "code",
      "source": [
        "paises_completos_listas=[Paises,Paises_Europa]\n",
        "paises_completos_listas"
      ],
      "metadata": {
        "colab": {
          "base_uri": "https://localhost:8080/"
        },
        "id": "9bWMl7rl9uiK",
        "outputId": "70950ee7-f450-46f6-cbcc-7bca39df3420"
      },
      "execution_count": null,
      "outputs": [
        {
          "output_type": "execute_result",
          "data": {
            "text/plain": [
              "[['Venezuela',\n",
              "  'Colombia',\n",
              "  'Ecuador',\n",
              "  'Mexico',\n",
              "  'China',\n",
              "  'Francia',\n",
              "  'Paraguay',\n",
              "  'Rusia'],\n",
              " ['Italia', 'Alemania', 'España', 'Portugal', 'Polonia']]"
            ]
          },
          "metadata": {},
          "execution_count": 122
        }
      ]
    },
    {
      "cell_type": "code",
      "source": [
        "Nombre=[\"Milo\",\"Abril\",\"Balula\",\"Hannaby\",\"Scooby\",\"Luna\",\"Chaggy\"]"
      ],
      "metadata": {
        "id": "RVgiGJlCBtoG"
      },
      "execution_count": null,
      "outputs": []
    },
    {
      "cell_type": "code",
      "source": [
        "Apellido=[\"Quimbayo\",\"Garzón\",\"Pasto\",\"Villalobos\",\"Beltrán\",\"Caceres\"]"
      ],
      "metadata": {
        "id": "KGZccDO_CDKY"
      },
      "execution_count": null,
      "outputs": []
    },
    {
      "cell_type": "code",
      "source": [
        "Edad=[30,12,10,2,9,16]"
      ],
      "metadata": {
        "id": "Sh9bVxqKCcLS"
      },
      "execution_count": null,
      "outputs": []
    },
    {
      "cell_type": "code",
      "source": [
        "Cédula=[1030645087,5748309,94091030821,2345690]"
      ],
      "metadata": {
        "id": "EmkFDqd0CrKR"
      },
      "execution_count": null,
      "outputs": []
    },
    {
      "cell_type": "code",
      "source": [
        "Estado_civil=[\"Soltero\",\"casado\",\"Union libre\",\"Viudo\"]"
      ],
      "metadata": {
        "id": "97k6WT1qDJhA"
      },
      "execution_count": null,
      "outputs": []
    },
    {
      "cell_type": "code",
      "source": [
        "Estatura=[1.55,1.78,1.65]"
      ],
      "metadata": {
        "id": "76fv4jLaDX_4"
      },
      "execution_count": null,
      "outputs": []
    },
    {
      "cell_type": "code",
      "source": [
        "Familiares=[ ]"
      ],
      "metadata": {
        "id": "nYgh0HtmEJ7Z"
      },
      "execution_count": null,
      "outputs": []
    },
    {
      "cell_type": "code",
      "source": [
        "Familiares.append(\"Erika\")\n",
        "Familiares.append(\"Leidy\")\n",
        "Familiares.append(\"Eliecer\")\n",
        "Familiares.append(\"Yaneth\")\n",
        "Familiares.append(\"Laura\")"
      ],
      "metadata": {
        "id": "Zs9TMzfpFCzK"
      },
      "execution_count": null,
      "outputs": []
    },
    {
      "cell_type": "code",
      "source": [
        "Familiares"
      ],
      "metadata": {
        "colab": {
          "base_uri": "https://localhost:8080/"
        },
        "id": "SrtjYlbyFcMx",
        "outputId": "94a4084f-7a18-4e38-9a52-f75d1b10a4de"
      },
      "execution_count": null,
      "outputs": [
        {
          "output_type": "execute_result",
          "data": {
            "text/plain": [
              "['Erika', 'Leidy', 'Eliecer', 'Yaneth', 'Laura']"
            ]
          },
          "metadata": {},
          "execution_count": 131
        }
      ]
    },
    {
      "cell_type": "code",
      "source": [
        "Familiares.insert(1,34)\n",
        "Familiares.insert(3,38)\n",
        "Familiares.insert(5,57)\n",
        "Familiares.insert(7,55)\n",
        "Familiares.insert(9,12)\n",
        "Familiares"
      ],
      "metadata": {
        "colab": {
          "base_uri": "https://localhost:8080/"
        },
        "id": "57FZQDvhH75h",
        "outputId": "b8f3b5df-e12a-4c01-c4bd-d815c3beffd2"
      },
      "execution_count": null,
      "outputs": [
        {
          "output_type": "execute_result",
          "data": {
            "text/plain": [
              "['Erika', 34, 'Leidy', 38, 'Eliecer', 57, 'Yaneth', 55, 'Laura', 12]"
            ]
          },
          "metadata": {},
          "execution_count": 132
        }
      ]
    },
    {
      "cell_type": "code",
      "source": [
        "#Esta función me sirve para tomar datos el usuario\n",
        "edad_1=input(\"ingresa tu edad\")\n",
        "edad_1"
      ],
      "metadata": {
        "id": "d67CTZvjLRsq",
        "colab": {
          "base_uri": "https://localhost:8080/",
          "height": 52
        },
        "outputId": "b738be3b-af72-4fd2-f984-aed5facb08b8"
      },
      "execution_count": null,
      "outputs": [
        {
          "name": "stdout",
          "output_type": "stream",
          "text": [
            "ingresa tu edad30\n"
          ]
        },
        {
          "output_type": "execute_result",
          "data": {
            "text/plain": [
              "'30'"
            ],
            "application/vnd.google.colaboratory.intrinsic+json": {
              "type": "string"
            }
          },
          "metadata": {},
          "execution_count": 133
        }
      ]
    },
    {
      "cell_type": "code",
      "source": [
        "#Para remover datos de las listas utilizo el metodo remove\n",
        "Paises.remove(\"Rusia\")"
      ],
      "metadata": {
        "id": "OeNlrVr8LmUf"
      },
      "execution_count": null,
      "outputs": []
    },
    {
      "cell_type": "code",
      "source": [
        "#Otro medotod para eliminar es el metodo pop, este me permite eliminar por posición\n",
        "Paises.pop(4)\n"
      ],
      "metadata": {
        "id": "0fW4anFVL7FL",
        "colab": {
          "base_uri": "https://localhost:8080/",
          "height": 35
        },
        "outputId": "d3baa1a5-7b60-45f7-e732-3b0a16c21c7e"
      },
      "execution_count": null,
      "outputs": [
        {
          "output_type": "execute_result",
          "data": {
            "text/plain": [
              "'China'"
            ],
            "application/vnd.google.colaboratory.intrinsic+json": {
              "type": "string"
            }
          },
          "metadata": {},
          "execution_count": 135
        }
      ]
    },
    {
      "cell_type": "code",
      "source": [
        "#Para eleminar difinitivamente se usa del\n",
        "del Paises[5]"
      ],
      "metadata": {
        "id": "fE-gMGxAMQ3D"
      },
      "execution_count": null,
      "outputs": []
    },
    {
      "cell_type": "code",
      "source": [
        "#Ordenar las listas, las puedo ordenarde menor a mayor o alfabeticamente con el metodo sort\n",
        "Paises.sort()\n",
        "Paises"
      ],
      "metadata": {
        "id": "XWKJ-MUqOAwa",
        "colab": {
          "base_uri": "https://localhost:8080/"
        },
        "outputId": "e1ca628e-ca03-4214-9984-e0cbd6587c83"
      },
      "execution_count": null,
      "outputs": [
        {
          "output_type": "execute_result",
          "data": {
            "text/plain": [
              "['Colombia', 'Ecuador', 'Francia', 'Mexico', 'Venezuela']"
            ]
          },
          "metadata": {},
          "execution_count": 137
        }
      ]
    },
    {
      "cell_type": "code",
      "source": [
        "digitos=[2,4,5,6,0,3,8,9,7]\n",
        "digitos.sort()\n",
        "digitos"
      ],
      "metadata": {
        "colab": {
          "base_uri": "https://localhost:8080/"
        },
        "id": "6lGSkLPgOfne",
        "outputId": "af2e2e1d-49c6-4ac1-841d-3ed98928d882"
      },
      "execution_count": null,
      "outputs": [
        {
          "output_type": "execute_result",
          "data": {
            "text/plain": [
              "[0, 2, 3, 4, 5, 6, 7, 8, 9]"
            ]
          },
          "metadata": {},
          "execution_count": 138
        }
      ]
    },
    {
      "cell_type": "code",
      "source": [
        "#Para organizar de mayor a menor reverse\n",
        "digitos.sort(reverse=True)\n",
        "digitos"
      ],
      "metadata": {
        "colab": {
          "base_uri": "https://localhost:8080/"
        },
        "id": "pkgeDv1JO1am",
        "outputId": "0ff37ef7-7ff9-4b91-87fc-ea3459ea89a5"
      },
      "execution_count": null,
      "outputs": [
        {
          "output_type": "execute_result",
          "data": {
            "text/plain": [
              "[9, 8, 7, 6, 5, 4, 3, 2, 0]"
            ]
          },
          "metadata": {},
          "execution_count": 139
        }
      ]
    },
    {
      "cell_type": "markdown",
      "source": [
        "**Diccionarios:** son tipos de datos que tienen una llave y un valor, a la combinación de llave con valor se le conoce como items, en los diccionarios puedo usar métodos parecidos a los de las listas"
      ],
      "metadata": {
        "id": "C_UAY8voQJP6"
      }
    },
    {
      "cell_type": "code",
      "source": [
        "diccionario_ing_esp={\"casa\":\"home\",\"entender\":\"understan\",\"sediento\":\"thirty\",\"rojo\":\"red\",\"ocupado\":\"bussy\"}\n",
        "diccionario_ing_esp"
      ],
      "metadata": {
        "colab": {
          "base_uri": "https://localhost:8080/"
        },
        "id": "A1C0WuBoQaEN",
        "outputId": "74466374-ca10-4e60-d364-7aaab2dc62c0"
      },
      "execution_count": null,
      "outputs": [
        {
          "output_type": "execute_result",
          "data": {
            "text/plain": [
              "{'casa': 'home',\n",
              " 'entender': 'understan',\n",
              " 'sediento': 'thirty',\n",
              " 'rojo': 'red',\n",
              " 'ocupado': 'bussy'}"
            ]
          },
          "metadata": {},
          "execution_count": 140
        }
      ]
    },
    {
      "cell_type": "code",
      "source": [
        "#Para ver un valor de una llave determinada lo hago de la siguiente manera\n",
        "diccionario_ing_esp[\"casa\"]"
      ],
      "metadata": {
        "colab": {
          "base_uri": "https://localhost:8080/",
          "height": 35
        },
        "id": "bNu2etrnSTd1",
        "outputId": "3f491bd3-71b5-4a1b-f6b5-3c4588e4067d"
      },
      "execution_count": null,
      "outputs": [
        {
          "output_type": "execute_result",
          "data": {
            "text/plain": [
              "'home'"
            ],
            "application/vnd.google.colaboratory.intrinsic+json": {
              "type": "string"
            }
          },
          "metadata": {},
          "execution_count": 141
        }
      ]
    },
    {
      "cell_type": "code",
      "source": [
        "#Para traer las llaves de los diccionarios, puedo usar el metodo keys\n",
        "diccionario_ing_esp\n"
      ],
      "metadata": {
        "id": "MVZEvbEhSw2w",
        "colab": {
          "base_uri": "https://localhost:8080/"
        },
        "outputId": "c82eb19a-5ab4-4105-9719-7a11f8d976c6"
      },
      "execution_count": null,
      "outputs": [
        {
          "output_type": "execute_result",
          "data": {
            "text/plain": [
              "{'casa': 'home',\n",
              " 'entender': 'understan',\n",
              " 'sediento': 'thirty',\n",
              " 'rojo': 'red',\n",
              " 'ocupado': 'bussy'}"
            ]
          },
          "metadata": {},
          "execution_count": 142
        }
      ]
    },
    {
      "cell_type": "code",
      "source": [
        "#Para mostrar los valores del diccionario\n",
        "diccionario_ing_esp"
      ],
      "metadata": {
        "colab": {
          "base_uri": "https://localhost:8080/"
        },
        "id": "nDNif1uzTABn",
        "outputId": "e2d75632-37ca-4181-9cd3-dc3335cb1c3b"
      },
      "execution_count": null,
      "outputs": [
        {
          "output_type": "execute_result",
          "data": {
            "text/plain": [
              "{'casa': 'home',\n",
              " 'entender': 'understan',\n",
              " 'sediento': 'thirty',\n",
              " 'rojo': 'red',\n",
              " 'ocupado': 'bussy'}"
            ]
          },
          "metadata": {},
          "execution_count": 143
        }
      ]
    },
    {
      "cell_type": "code",
      "source": [
        "diccionario_ing_esp.items()"
      ],
      "metadata": {
        "colab": {
          "base_uri": "https://localhost:8080/"
        },
        "id": "xoA_YOuvTJZY",
        "outputId": "a963b760-2744-4842-8433-bbbcf04668b5"
      },
      "execution_count": null,
      "outputs": [
        {
          "output_type": "execute_result",
          "data": {
            "text/plain": [
              "dict_items([('casa', 'home'), ('entender', 'understan'), ('sediento', 'thirty'), ('rojo', 'red'), ('ocupado', 'bussy')])"
            ]
          },
          "metadata": {},
          "execution_count": 144
        }
      ]
    },
    {
      "cell_type": "code",
      "source": [
        "type(diccionario_ing_esp)"
      ],
      "metadata": {
        "colab": {
          "base_uri": "https://localhost:8080/"
        },
        "id": "Bg8OtmnCTPvp",
        "outputId": "b5084a75-2caf-43d0-f5eb-6be41948f1a9"
      },
      "execution_count": null,
      "outputs": [
        {
          "output_type": "execute_result",
          "data": {
            "text/plain": [
              "dict"
            ]
          },
          "metadata": {},
          "execution_count": 145
        }
      ]
    },
    {
      "cell_type": "code",
      "source": [
        "#para actualizar un dato uso el update\n",
        "diccionario_ing_esp.update({\"negro\":\"black\"})\n",
        "diccionario_ing_esp"
      ],
      "metadata": {
        "colab": {
          "base_uri": "https://localhost:8080/"
        },
        "id": "JwpFDmCqTrSx",
        "outputId": "eb3d8ade-f6cc-449e-d8e8-d79178aeb52a"
      },
      "execution_count": null,
      "outputs": [
        {
          "output_type": "execute_result",
          "data": {
            "text/plain": [
              "{'casa': 'home',\n",
              " 'entender': 'understan',\n",
              " 'sediento': 'thirty',\n",
              " 'rojo': 'red',\n",
              " 'ocupado': 'bussy',\n",
              " 'negro': 'black'}"
            ]
          },
          "metadata": {},
          "execution_count": 146
        }
      ]
    },
    {
      "cell_type": "code",
      "source": [
        "#Tambien puedo agregar una lista dentro de un diccionario\n",
        "diccionario_ing_esp.update({\"gris\":\"grey\",\"pronombres\":[\"he\",\"she\",\"it\"]})\n",
        "diccionario_ing_esp"
      ],
      "metadata": {
        "colab": {
          "base_uri": "https://localhost:8080/"
        },
        "id": "UyLdgs8WUAlf",
        "outputId": "a1932a62-4d15-42fd-8f0a-e8ff2f5da18e"
      },
      "execution_count": null,
      "outputs": [
        {
          "output_type": "execute_result",
          "data": {
            "text/plain": [
              "{'casa': 'home',\n",
              " 'entender': 'understan',\n",
              " 'sediento': 'thirty',\n",
              " 'rojo': 'red',\n",
              " 'ocupado': 'bussy',\n",
              " 'negro': 'black',\n",
              " 'gris': 'grey',\n",
              " 'pronombres': ['he', 'she', 'it']}"
            ]
          },
          "metadata": {},
          "execution_count": 147
        }
      ]
    },
    {
      "cell_type": "code",
      "source": [
        "#Para eleminar del diccionario podemos usar del\n",
        "del diccionario_ing_esp[\"pronombres\"]\n",
        "diccionario_ing_esp"
      ],
      "metadata": {
        "colab": {
          "base_uri": "https://localhost:8080/"
        },
        "id": "fblpkzBnVoun",
        "outputId": "3dcf19e3-ab7c-4b2c-bea1-b247c4ed8105"
      },
      "execution_count": null,
      "outputs": [
        {
          "output_type": "execute_result",
          "data": {
            "text/plain": [
              "{'casa': 'home',\n",
              " 'entender': 'understan',\n",
              " 'sediento': 'thirty',\n",
              " 'rojo': 'red',\n",
              " 'ocupado': 'bussy',\n",
              " 'negro': 'black',\n",
              " 'gris': 'grey'}"
            ]
          },
          "metadata": {},
          "execution_count": 148
        }
      ]
    },
    {
      "cell_type": "markdown",
      "source": [
        "**Operadores Lógicos: **se usas para combinar condiciones y devolver True o False, dependiendo cual sea el caso, son esenciales para la toma de decisiones y para la creación de la logica de programación"
      ],
      "metadata": {
        "id": "DJOcU1vWbbry"
      }
    },
    {
      "cell_type": "code",
      "source": [
        "#El primero es AND que traduce Y\n",
        "print(\"operador AND (Que significa y)\")\n",
        "print(\"para que y sea verdadero todas las condiciones deben ser vedaderas\")\n",
        "5>3 and 5<10"
      ],
      "metadata": {
        "colab": {
          "base_uri": "https://localhost:8080/"
        },
        "id": "fED0wWJXbsdY",
        "outputId": "f0f6e021-abbf-49b0-87be-fc992e6313f8"
      },
      "execution_count": null,
      "outputs": [
        {
          "output_type": "stream",
          "name": "stdout",
          "text": [
            "operador AND (Que significa y)\n",
            "para que y sea verdadero todas las condiciones deben ser vedaderas\n"
          ]
        },
        {
          "output_type": "execute_result",
          "data": {
            "text/plain": [
              "True"
            ]
          },
          "metadata": {},
          "execution_count": 149
        }
      ]
    },
    {
      "cell_type": "code",
      "source": [],
      "metadata": {
        "id": "-kOhQW2sba8Q"
      },
      "execution_count": null,
      "outputs": []
    },
    {
      "cell_type": "code",
      "source": [
        "5<3 and 5<10"
      ],
      "metadata": {
        "colab": {
          "base_uri": "https://localhost:8080/"
        },
        "id": "QY45DUpTcTTo",
        "outputId": "875d1944-7236-45f8-da53-7d491fa0307d"
      },
      "execution_count": null,
      "outputs": [
        {
          "output_type": "execute_result",
          "data": {
            "text/plain": [
              "False"
            ]
          },
          "metadata": {},
          "execution_count": 150
        }
      ]
    },
    {
      "cell_type": "code",
      "source": [
        "#Para usar o, se usa la palabra reservada or, en or por lo menos una de las condiciones debe ser verdadera\n",
        "5<3 or 5<10"
      ],
      "metadata": {
        "colab": {
          "base_uri": "https://localhost:8080/"
        },
        "id": "_sWpc--1cdsv",
        "outputId": "eea591bb-7b2b-4ab1-e8ec-063d93ba8e88"
      },
      "execution_count": null,
      "outputs": [
        {
          "output_type": "execute_result",
          "data": {
            "text/plain": [
              "True"
            ]
          },
          "metadata": {},
          "execution_count": 151
        }
      ]
    },
    {
      "cell_type": "code",
      "source": [
        "5<3 and 5>10"
      ],
      "metadata": {
        "colab": {
          "base_uri": "https://localhost:8080/"
        },
        "id": "7gk3kAYsc4b6",
        "outputId": "5f9fff65-0553-4b80-d947-b17b72ba626e"
      },
      "execution_count": null,
      "outputs": [
        {
          "output_type": "execute_result",
          "data": {
            "text/plain": [
              "False"
            ]
          },
          "metadata": {},
          "execution_count": 152
        }
      ]
    },
    {
      "cell_type": "code",
      "source": [
        "5>3 and 5<10"
      ],
      "metadata": {
        "colab": {
          "base_uri": "https://localhost:8080/"
        },
        "id": "Zt33bB9Wc_LI",
        "outputId": "12c110d1-f7d7-4e62-8995-2d1fc052e7d7"
      },
      "execution_count": null,
      "outputs": [
        {
          "output_type": "execute_result",
          "data": {
            "text/plain": [
              "True"
            ]
          },
          "metadata": {},
          "execution_count": 153
        }
      ]
    },
    {
      "cell_type": "code",
      "source": [
        "#Existe otro operador logico que es el NOT\n",
        "#not\n",
        "print(\"Operador NOT (\"negación logica\")\")\n",
        "not 5>3"
      ],
      "metadata": {
        "colab": {
          "base_uri": "https://localhost:8080/",
          "height": 106
        },
        "id": "M9__r-N0dHCh",
        "outputId": "f84cf871-319b-452c-8126-ea68bb4b768a"
      },
      "execution_count": null,
      "outputs": [
        {
          "output_type": "error",
          "ename": "SyntaxError",
          "evalue": "invalid syntax. Perhaps you forgot a comma? (<ipython-input-154-5fec49b54804>, line 3)",
          "traceback": [
            "\u001b[0;36m  File \u001b[0;32m\"<ipython-input-154-5fec49b54804>\"\u001b[0;36m, line \u001b[0;32m3\u001b[0m\n\u001b[0;31m    print(\"Operador NOT (\"negación logica\")\")\u001b[0m\n\u001b[0m          ^\u001b[0m\n\u001b[0;31mSyntaxError\u001b[0m\u001b[0;31m:\u001b[0m invalid syntax. Perhaps you forgot a comma?\n"
          ]
        }
      ]
    },
    {
      "cell_type": "markdown",
      "source": [
        "**Operaciones matemáticas:** en ese momento solo usaremos las más basicas que son las esenciales para cualquier lengiaje de programación, suma, resta, multiplicación, división, potenciación y modulo"
      ],
      "metadata": {
        "id": "KtIaW5dRdhzv"
      }
    },
    {
      "cell_type": "code",
      "source": [
        "#La suma se representa con el simbolo + y me sirve tambien para concatenar\n",
        "6+5"
      ],
      "metadata": {
        "id": "kW5ttu0KdwDi"
      },
      "execution_count": null,
      "outputs": []
    },
    {
      "cell_type": "code",
      "source": [
        "#Resta se representa con el -\n",
        "6-5"
      ],
      "metadata": {
        "id": "x2dA5cl0d4uf"
      },
      "execution_count": null,
      "outputs": []
    },
    {
      "cell_type": "code",
      "source": [
        "#Multiplicación se representa con asterisco, me sirve para multiplicar cadenas\n",
        "7*5"
      ],
      "metadata": {
        "id": "dgt_8o4Qd9pj"
      },
      "execution_count": null,
      "outputs": []
    },
    {
      "cell_type": "code",
      "source": [
        "#división, uso el slash y me da resultados con decimales\n",
        "37/3"
      ],
      "metadata": {
        "id": "xU0rki5AeXBo"
      },
      "execution_count": null,
      "outputs": []
    },
    {
      "cell_type": "code",
      "source": [
        "#Potenciación se usa el doble asterisco **, primero la base y luego el exponente\n",
        "5**5"
      ],
      "metadata": {
        "id": "XyPp_ybfeeSL"
      },
      "execution_count": null,
      "outputs": []
    },
    {
      "cell_type": "code",
      "source": [
        "#Modulo para hacer el modulo uso el simbolo %\n",
        "23%4"
      ],
      "metadata": {
        "id": "FOpXxEaUeoRQ"
      },
      "execution_count": null,
      "outputs": []
    },
    {
      "cell_type": "markdown",
      "source": [
        "Operadores de comparación: nos sirven como su nombre lo indica para comparar valores, y saber si la comparación es verdadera o falsa"
      ],
      "metadata": {
        "id": "0-bcMJBZfkUf"
      }
    },
    {
      "cell_type": "code",
      "source": [
        "#Para comparar si dos valores son iguales uso el doble igual ==\n",
        "(3+29)==21"
      ],
      "metadata": {
        "id": "jtnUgud_fst4"
      },
      "execution_count": null,
      "outputs": []
    },
    {
      "cell_type": "code",
      "source": [
        "#Tambien tenemos el diferente de, uso !=\n",
        "(3+29)!=21"
      ],
      "metadata": {
        "id": "qyWjlj6Lfhbb"
      },
      "execution_count": null,
      "outputs": []
    },
    {
      "cell_type": "code",
      "source": [
        "#Mayor que >\n",
        "(3+29)>21"
      ],
      "metadata": {
        "id": "NbKYTJUugFoe"
      },
      "execution_count": null,
      "outputs": []
    },
    {
      "cell_type": "code",
      "source": [
        "#Menor que <\n",
        "(3+29)<21"
      ],
      "metadata": {
        "id": "DbuET-VDgRCQ"
      },
      "execution_count": null,
      "outputs": []
    },
    {
      "cell_type": "code",
      "source": [
        "#Menor o igual o mayor igual\n",
        "#>= Mayor o igual que\n",
        "#<= Menor o igual que\n",
        "(3+18)<=21"
      ],
      "metadata": {
        "id": "hLpLk8KVgbnI"
      },
      "execution_count": null,
      "outputs": []
    },
    {
      "cell_type": "markdown",
      "source": [
        "**Condiciones:** me permiten ejecutar un bloque de código si la condición es verdadera o falsa, sirven como entes de control, su sintaxis es de la siguiente manera, las condicionales en Phyton son: **if, elif y else**"
      ],
      "metadata": {
        "id": "1-WKbrsAgwn5"
      }
    },
    {
      "cell_type": "code",
      "source": [],
      "metadata": {
        "id": "5j927qj4hJqn"
      },
      "execution_count": null,
      "outputs": []
    },
    {
      "cell_type": "code",
      "source": [
        "#if condición:\n",
        "#(código que quiero ejecutar)\n",
        "#else (sino)\n",
        "#(Código a ejecutar)"
      ],
      "metadata": {
        "id": "PJW3302Bg8cU"
      },
      "execution_count": null,
      "outputs": []
    },
    {
      "cell_type": "code",
      "source": [
        "edad_michael=16\n",
        "if edad_michael >= 18:\n",
        "  print(\"michael bienvenido, pero deberias estar trabajando\")\n",
        "else:\n",
        "    print(\"michael estas muy chiquito\")"
      ],
      "metadata": {
        "id": "iEcNwKHygtm6"
      },
      "execution_count": null,
      "outputs": []
    },
    {
      "cell_type": "code",
      "source": [
        "edad_usuario=int(input(\"Hola para ingresar por favor comprueba tu edad\"))\n",
        "if edad_usuario >=18:\n",
        "  print(\"Bienvenido puedes apostar tu casa\")\n",
        "else:\n",
        "  print:(\"Eres muy pequeño no apuestes por favor\")"
      ],
      "metadata": {
        "id": "ijXCtAk0iWG-"
      },
      "execution_count": null,
      "outputs": []
    },
    {
      "cell_type": "code",
      "source": [
        "edad_usuario=int(input(\"Hola para ingresar por favor comprueba tu edad\"))\n",
        "if edad_usuario >=18:\n",
        "  print(\"Bienvenido puedes apostar tu casa\")\n",
        "elif edad_usuario >=13:\n",
        "  print(\"Eres un adolescente, pero no te preocupes TE ESPERAREMOS\")\n",
        "else:\n",
        "  print:(\"Eres muy pequeño no apuestes por favor\")"
      ],
      "metadata": {
        "id": "h4shkwrpjZnG"
      },
      "execution_count": null,
      "outputs": []
    },
    {
      "cell_type": "code",
      "source": [
        "#Escribe un programa que le pida el nombre al usuario y que cada letra de su nombre lo convierta en mayuscula\n",
        "Nombre_usuario=input(\"Ingresa tu nombre\")\n",
        "Nombre_usuario.title()"
      ],
      "metadata": {
        "id": "85PNfBatophE"
      },
      "execution_count": null,
      "outputs": []
    },
    {
      "cell_type": "markdown",
      "source": [
        "**Ciclos y bucles**\n",
        "\n",
        "Son estructuras de código que me permiten iterar sobre una estructura o un rango, existen dos tipos de ciclos más usados los for, que significa para o los wy que significa mientras que"
      ],
      "metadata": {
        "id": "2wVOCKTguBFL"
      }
    },
    {
      "cell_type": "code",
      "source": [
        "#De esta manera es la estructura de los ciclos for\n",
        "#for <variable>int<lista>:\n",
        " # <Ejecutable>"
      ],
      "metadata": {
        "id": "FQMTmM9XuVSt"
      },
      "execution_count": null,
      "outputs": []
    },
    {
      "cell_type": "code",
      "source": [
        "paises_completos_listas"
      ],
      "metadata": {
        "colab": {
          "base_uri": "https://localhost:8080/"
        },
        "id": "G8DlSS8jwT3p",
        "outputId": "0355c264-fe4e-4725-b2c1-db895a665664"
      },
      "execution_count": null,
      "outputs": [
        {
          "output_type": "execute_result",
          "data": {
            "text/plain": [
              "[['Colombia', 'Ecuador', 'Francia', 'Mexico', 'Venezuela'],\n",
              " ['Italia', 'Alemania', 'España', 'Portugal', 'Polonia']]"
            ]
          },
          "metadata": {},
          "execution_count": 155
        }
      ]
    },
    {
      "cell_type": "code",
      "source": [
        "for i in paises_completos_listas:\n",
        "  print(i)"
      ],
      "metadata": {
        "colab": {
          "base_uri": "https://localhost:8080/"
        },
        "id": "x9mta1drvnyz",
        "outputId": "679c0ef1-6407-4c48-be63-54beab233677"
      },
      "execution_count": null,
      "outputs": [
        {
          "output_type": "stream",
          "name": "stdout",
          "text": [
            "['Colombia', 'Ecuador', 'Francia', 'Mexico', 'Venezuela']\n",
            "['Italia', 'Alemania', 'España', 'Portugal', 'Polonia']\n"
          ]
        }
      ]
    },
    {
      "cell_type": "code",
      "source": [
        "Paises"
      ],
      "metadata": {
        "colab": {
          "base_uri": "https://localhost:8080/"
        },
        "id": "k3XThDWwwigA",
        "outputId": "79792c12-ac65-49e7-d705-bb0404dc64e6"
      },
      "execution_count": null,
      "outputs": [
        {
          "output_type": "execute_result",
          "data": {
            "text/plain": [
              "['Colombia', 'Ecuador', 'Francia', 'Mexico', 'Venezuela']"
            ]
          },
          "metadata": {},
          "execution_count": 158
        }
      ]
    },
    {
      "cell_type": "code",
      "source": [
        "for i in Paises:\n",
        "  if i == \"Ecuador\":\n",
        "    print(i,\"este país esta infiltrado\")"
      ],
      "metadata": {
        "colab": {
          "base_uri": "https://localhost:8080/"
        },
        "id": "nWPn1Aerwb4A",
        "outputId": "6259a8e2-d9a2-441f-fdc1-a5a5fd27a264"
      },
      "execution_count": null,
      "outputs": [
        {
          "output_type": "stream",
          "name": "stdout",
          "text": [
            "Ecuador este país esta infiltrado\n"
          ]
        }
      ]
    },
    {
      "cell_type": "code",
      "source": [
        "for numero, i in enumerate(Paises):\n",
        "  print(numero)\n",
        "  print(i)"
      ],
      "metadata": {
        "colab": {
          "base_uri": "https://localhost:8080/"
        },
        "id": "ddXh74oHxDPH",
        "outputId": "b619aae3-fbf2-413b-d739-7843930963c1"
      },
      "execution_count": null,
      "outputs": [
        {
          "output_type": "stream",
          "name": "stdout",
          "text": [
            "0\n",
            "Colombia\n",
            "1\n",
            "Ecuador\n",
            "2\n",
            "Francia\n",
            "3\n",
            "Mexico\n",
            "4\n",
            "Venezuela\n"
          ]
        }
      ]
    },
    {
      "cell_type": "markdown",
      "source": [
        "**FUNCIONES**"
      ],
      "metadata": {
        "id": "uW_lPmbz3JkT"
      }
    },
    {
      "cell_type": "code",
      "source": [
        "#Función len nos da la longitud de una regla\n",
        "len(Paises)"
      ],
      "metadata": {
        "colab": {
          "base_uri": "https://localhost:8080/"
        },
        "id": "EYz-G84m3Liz",
        "outputId": "9fd2b27d-5116-41f6-ad48-cb85a26c3bf9"
      },
      "execution_count": null,
      "outputs": [
        {
          "output_type": "execute_result",
          "data": {
            "text/plain": [
              "5"
            ]
          },
          "metadata": {},
          "execution_count": 166
        }
      ]
    },
    {
      "cell_type": "code",
      "source": [
        "#Función más me sirve para mostar el número max + grande de un arreglo\n",
        "max(1,5,7,3,4,6,7,0)"
      ],
      "metadata": {
        "colab": {
          "base_uri": "https://localhost:8080/"
        },
        "id": "mdpcwsaI3Vog",
        "outputId": "40e02f87-be4c-4ff9-d8a5-8fa599eafa11"
      },
      "execution_count": null,
      "outputs": [
        {
          "output_type": "execute_result",
          "data": {
            "text/plain": [
              "7"
            ]
          },
          "metadata": {},
          "execution_count": 167
        }
      ]
    },
    {
      "cell_type": "code",
      "source": [
        "#la función min me sirve para mostrar el valor más bajo de un arreglo\n",
        "min(1,5,7,3,4,6,7,0)"
      ],
      "metadata": {
        "colab": {
          "base_uri": "https://localhost:8080/"
        },
        "id": "IXKg9vQP3mwd",
        "outputId": "7bb4f0a9-8031-44f4-f21e-e8742742ee67"
      },
      "execution_count": null,
      "outputs": [
        {
          "output_type": "execute_result",
          "data": {
            "text/plain": [
              "0"
            ]
          },
          "metadata": {},
          "execution_count": 168
        }
      ]
    },
    {
      "cell_type": "code",
      "source": [
        "#la función type me sirve para saber el tipo de una variable\n",
        "type(Paises)"
      ],
      "metadata": {
        "colab": {
          "base_uri": "https://localhost:8080/"
        },
        "id": "evNEm7XE36Oz",
        "outputId": "5f71f902-fc7e-47d2-ef66-4cfe3d1c17d6"
      },
      "execution_count": null,
      "outputs": [
        {
          "output_type": "execute_result",
          "data": {
            "text/plain": [
              "list"
            ]
          },
          "metadata": {},
          "execution_count": 169
        }
      ]
    },
    {
      "cell_type": "code",
      "source": [
        "#round me sirve para redondear decimales\n",
        "round(3.1416,2)"
      ],
      "metadata": {
        "colab": {
          "base_uri": "https://localhost:8080/"
        },
        "id": "Gz9UeE1s4Gzv",
        "outputId": "c8fc2022-77df-4291-e989-109cf99c6004"
      },
      "execution_count": null,
      "outputs": [
        {
          "output_type": "execute_result",
          "data": {
            "text/plain": [
              "3.14"
            ]
          },
          "metadata": {},
          "execution_count": 170
        }
      ]
    },
    {
      "cell_type": "code",
      "source": [
        "#range sirve para crear una secuencia de numeros, tiene 3 argumentos, el inicio, el final y el paso\n",
        "contando=range(0,200,5)"
      ],
      "metadata": {
        "id": "BvU_ZPAa4SuS"
      },
      "execution_count": null,
      "outputs": []
    },
    {
      "cell_type": "code",
      "source": [
        "for i in contando:\n",
        "  print(i)"
      ],
      "metadata": {
        "colab": {
          "base_uri": "https://localhost:8080/"
        },
        "id": "6WZ_TqJw4kKn",
        "outputId": "0672d76a-3062-4cb3-a013-a11f6f8c037f"
      },
      "execution_count": null,
      "outputs": [
        {
          "output_type": "stream",
          "name": "stdout",
          "text": [
            "0\n",
            "5\n",
            "10\n",
            "15\n",
            "20\n",
            "25\n",
            "30\n",
            "35\n",
            "40\n",
            "45\n",
            "50\n",
            "55\n",
            "60\n",
            "65\n",
            "70\n",
            "75\n",
            "80\n",
            "85\n",
            "90\n",
            "95\n",
            "100\n",
            "105\n",
            "110\n",
            "115\n",
            "120\n",
            "125\n",
            "130\n",
            "135\n",
            "140\n",
            "145\n",
            "150\n",
            "155\n",
            "160\n",
            "165\n",
            "170\n",
            "175\n",
            "180\n",
            "185\n",
            "190\n",
            "195\n"
          ]
        }
      ]
    },
    {
      "cell_type": "markdown",
      "source": [
        "Las funciones propias son las que yo creo y me sirven para reutilizar código\n",
        "\n",
        "La palabra reservada para declarar una función es def"
      ],
      "metadata": {
        "id": "2ciO98Kx41VA"
      }
    },
    {
      "cell_type": "code",
      "source": [
        "#def suma=(a,b)¨:\n",
        "  #resultado=a+b\n",
        "  #return resultado"
      ],
      "metadata": {
        "id": "euTYB5Hu4_IH"
      },
      "execution_count": null,
      "outputs": []
    },
    {
      "cell_type": "code",
      "source": [
        "def pan(a,b):\n",
        "  precio_pan=a*b\n",
        "  return precio_pan"
      ],
      "metadata": {
        "id": "4ITVO0LA6GlE"
      },
      "execution_count": null,
      "outputs": []
    },
    {
      "cell_type": "code",
      "source": [
        "pan (5,500)"
      ],
      "metadata": {
        "colab": {
          "base_uri": "https://localhost:8080/"
        },
        "id": "JWjMPThi8RRB",
        "outputId": "64507e6f-5fcb-4e75-e6e0-f97aa281f080"
      },
      "execution_count": null,
      "outputs": [
        {
          "output_type": "execute_result",
          "data": {
            "text/plain": [
              "2500"
            ]
          },
          "metadata": {},
          "execution_count": 193
        }
      ]
    },
    {
      "cell_type": "code",
      "source": [
        "Cantidad=int(input(\"Buenos días, ¿cuantos panes quieres?\"))\n",
        "valor=500\n",
        "pan(Cantidad,valor)"
      ],
      "metadata": {
        "colab": {
          "base_uri": "https://localhost:8080/"
        },
        "id": "HzcGTgNF6WAh",
        "outputId": "e4810825-018b-4745-c852-8706cdaf4ab8"
      },
      "execution_count": null,
      "outputs": [
        {
          "name": "stdout",
          "output_type": "stream",
          "text": [
            "Buenos días, ¿cuantos panes quieres?4\n"
          ]
        },
        {
          "output_type": "execute_result",
          "data": {
            "text/plain": [
              "2000"
            ]
          },
          "metadata": {},
          "execution_count": 196
        }
      ]
    },
    {
      "cell_type": "code",
      "source": [
        "#División\n",
        "def división(a,b):\n",
        "  resultado_división=a/b\n",
        "  return resultado_división"
      ],
      "metadata": {
        "id": "Q_aqi2Ko8nFA"
      },
      "execution_count": null,
      "outputs": []
    },
    {
      "cell_type": "code",
      "source": [
        "división(4,2)"
      ],
      "metadata": {
        "colab": {
          "base_uri": "https://localhost:8080/"
        },
        "id": "hXenM0UK9OUn",
        "outputId": "81b31ca1-7ff4-4311-d3e6-968c83f241ad"
      },
      "execution_count": null,
      "outputs": [
        {
          "output_type": "execute_result",
          "data": {
            "text/plain": [
              "2.0"
            ]
          },
          "metadata": {},
          "execution_count": 198
        }
      ]
    },
    {
      "cell_type": "markdown",
      "source": [
        "**EJERCICIO**\n",
        "\n",
        "Escribe un programa que calcule el total de una compra de supermercado, el usuario debe ingresar el precio de dos productos y las cantidades que desee comprar de cada uno, luego el programa deberá permitir al usuario:\n",
        "\n",
        "\n",
        "1.   Sumar los precios de ambos productos\n",
        "2.   Multiplicar los precios por las cantidades de productos para obtener el costo total\n",
        "3. Restar un descuento del precio total (si el usuario tiene un cupon)\n",
        "4. Dividir el total entre 2 persona por si desean dividir la cuenta\n",
        "\n"
      ],
      "metadata": {
        "id": "ZRTne1KT9Uno"
      }
    },
    {
      "cell_type": "code",
      "source": [
        "#Suma\n",
        "def suma(a,b):\n",
        "  resultado_suma=a+b\n",
        "  return resultado_suma"
      ],
      "metadata": {
        "id": "BrVHHfP590gQ"
      },
      "execution_count": null,
      "outputs": []
    },
    {
      "cell_type": "code",
      "source": [
        "#Multiplicación\n",
        "def Multiplicación(a,b):\n",
        "  resultado_Multiplicación=a*b\n",
        "  return resultado_Multiplicación"
      ],
      "metadata": {
        "id": "-iQYFY9x-UxB"
      },
      "execution_count": null,
      "outputs": []
    },
    {
      "cell_type": "code",
      "source": [
        "#Resta\n",
        "def Resta(a,b):\n",
        "  resultado_Resta=a-b\n",
        "  return resultado_Resta"
      ],
      "metadata": {
        "id": "UslBi833-mDo"
      },
      "execution_count": null,
      "outputs": []
    },
    {
      "cell_type": "code",
      "source": [
        "#División\n",
        "def División(a,b):\n",
        "  resultado_Resta=a/b\n",
        "  return resultado_división\n"
      ],
      "metadata": {
        "id": "hauQD60a-vRk"
      },
      "execution_count": null,
      "outputs": []
    },
    {
      "cell_type": "code",
      "source": [
        "print(\"Bienvenido a supermercado B1\")\n",
        "Producto_1=input(\"Ingresa tu producto\")\n",
        "Valor_producto_1=float(input(\"Ingresa el valor de tu producto\"))\n",
        "Cantidad_1=int(input(\"Ingresa el valor de tu producto\"))\n",
        "Producto_2=input(\"Ingresa la cantidad que deseas\")\n",
        "Valor_producto_2=float(input(\"Ingresa el valor de tu producto\"))\n",
        "Cantidad_2=int(input(\"Ingresa la cantidad que deseas\"))\n",
        "Operaciones= input(\"\"\"Bienvenido,¿Cómo estas?, cuentame que quieres hacer\n",
        "sumar los precios de ambos productos\n",
        "calcular el costo total multiplicando precios por cantidad.\n",
        "Aplicar un descuento total\n",
        "Dividir el total entre dos personas\n",
        "No olvides que solo puedes elegir 1,2,3 y4: \"\"\")\n",
        "if operaciones==\"1\":\n",
        "  total_precio= suma(Valor_producto_1,Valor_producto_2)\n",
        "  print(total_precio)"
      ],
      "metadata": {
        "colab": {
          "base_uri": "https://localhost:8080/",
          "height": 391
        },
        "id": "22ptuHj8-5P3",
        "outputId": "17f08d1f-0147-4a70-e1f9-ed7388276d29"
      },
      "execution_count": null,
      "outputs": [
        {
          "name": "stdout",
          "output_type": "stream",
          "text": [
            "Bienvenido a supermercado B1\n",
            "Ingresa el valor de tu producto2000\n"
          ]
        },
        {
          "output_type": "error",
          "ename": "KeyboardInterrupt",
          "evalue": "Interrupted by user",
          "traceback": [
            "\u001b[0;31m---------------------------------------------------------------------------\u001b[0m",
            "\u001b[0;31mKeyboardInterrupt\u001b[0m                         Traceback (most recent call last)",
            "\u001b[0;32m<ipython-input-206-bf1e0f0508b2>\u001b[0m in \u001b[0;36m<cell line: 5>\u001b[0;34m()\u001b[0m\n\u001b[1;32m      3\u001b[0m \u001b[0mValor_producto_1\u001b[0m\u001b[0;34m=\u001b[0m\u001b[0mfloat\u001b[0m\u001b[0;34m(\u001b[0m\u001b[0minput\u001b[0m\u001b[0;34m(\u001b[0m\u001b[0;34m\"Ingresa el valor de tu producto\"\u001b[0m\u001b[0;34m)\u001b[0m\u001b[0;34m)\u001b[0m\u001b[0;34m\u001b[0m\u001b[0;34m\u001b[0m\u001b[0m\n\u001b[1;32m      4\u001b[0m \u001b[0mCantidad_1\u001b[0m\u001b[0;34m=\u001b[0m\u001b[0mint\u001b[0m\u001b[0;34m(\u001b[0m\u001b[0minput\u001b[0m\u001b[0;34m(\u001b[0m\u001b[0;34m\"Ingresa el valor de tu producto\"\u001b[0m\u001b[0;34m)\u001b[0m\u001b[0;34m)\u001b[0m\u001b[0;34m\u001b[0m\u001b[0;34m\u001b[0m\u001b[0m\n\u001b[0;32m----> 5\u001b[0;31m \u001b[0mProducto_2\u001b[0m\u001b[0;34m=\u001b[0m\u001b[0minput\u001b[0m\u001b[0;34m(\u001b[0m\u001b[0;34m\"Ingresa la cantidad que deseas\"\u001b[0m\u001b[0;34m)\u001b[0m\u001b[0;34m\u001b[0m\u001b[0;34m\u001b[0m\u001b[0m\n\u001b[0m\u001b[1;32m      6\u001b[0m \u001b[0mValor_producto_2\u001b[0m\u001b[0;34m=\u001b[0m\u001b[0mfloat\u001b[0m\u001b[0;34m(\u001b[0m\u001b[0minput\u001b[0m\u001b[0;34m(\u001b[0m\u001b[0;34m\"Ingresa el valor de tu producto\"\u001b[0m\u001b[0;34m)\u001b[0m\u001b[0;34m)\u001b[0m\u001b[0;34m\u001b[0m\u001b[0;34m\u001b[0m\u001b[0m\n\u001b[1;32m      7\u001b[0m \u001b[0mCantidad_2\u001b[0m\u001b[0;34m=\u001b[0m\u001b[0mint\u001b[0m\u001b[0;34m(\u001b[0m\u001b[0minput\u001b[0m\u001b[0;34m(\u001b[0m\u001b[0;34m\"Ingresa la cantidad que deseas\"\u001b[0m\u001b[0;34m)\u001b[0m\u001b[0;34m)\u001b[0m\u001b[0;34m\u001b[0m\u001b[0;34m\u001b[0m\u001b[0m\n",
            "\u001b[0;32m/usr/local/lib/python3.10/dist-packages/ipykernel/kernelbase.py\u001b[0m in \u001b[0;36mraw_input\u001b[0;34m(self, prompt)\u001b[0m\n\u001b[1;32m    849\u001b[0m                 \u001b[0;34m\"raw_input was called, but this frontend does not support input requests.\"\u001b[0m\u001b[0;34m\u001b[0m\u001b[0;34m\u001b[0m\u001b[0m\n\u001b[1;32m    850\u001b[0m             )\n\u001b[0;32m--> 851\u001b[0;31m         return self._input_request(str(prompt),\n\u001b[0m\u001b[1;32m    852\u001b[0m             \u001b[0mself\u001b[0m\u001b[0;34m.\u001b[0m\u001b[0m_parent_ident\u001b[0m\u001b[0;34m,\u001b[0m\u001b[0;34m\u001b[0m\u001b[0;34m\u001b[0m\u001b[0m\n\u001b[1;32m    853\u001b[0m             \u001b[0mself\u001b[0m\u001b[0;34m.\u001b[0m\u001b[0m_parent_header\u001b[0m\u001b[0;34m,\u001b[0m\u001b[0;34m\u001b[0m\u001b[0;34m\u001b[0m\u001b[0m\n",
            "\u001b[0;32m/usr/local/lib/python3.10/dist-packages/ipykernel/kernelbase.py\u001b[0m in \u001b[0;36m_input_request\u001b[0;34m(self, prompt, ident, parent, password)\u001b[0m\n\u001b[1;32m    893\u001b[0m             \u001b[0;32mexcept\u001b[0m \u001b[0mKeyboardInterrupt\u001b[0m\u001b[0;34m:\u001b[0m\u001b[0;34m\u001b[0m\u001b[0;34m\u001b[0m\u001b[0m\n\u001b[1;32m    894\u001b[0m                 \u001b[0;31m# re-raise KeyboardInterrupt, to truncate traceback\u001b[0m\u001b[0;34m\u001b[0m\u001b[0;34m\u001b[0m\u001b[0m\n\u001b[0;32m--> 895\u001b[0;31m                 \u001b[0;32mraise\u001b[0m \u001b[0mKeyboardInterrupt\u001b[0m\u001b[0;34m(\u001b[0m\u001b[0;34m\"Interrupted by user\"\u001b[0m\u001b[0;34m)\u001b[0m \u001b[0;32mfrom\u001b[0m \u001b[0;32mNone\u001b[0m\u001b[0;34m\u001b[0m\u001b[0;34m\u001b[0m\u001b[0m\n\u001b[0m\u001b[1;32m    896\u001b[0m             \u001b[0;32mexcept\u001b[0m \u001b[0mException\u001b[0m \u001b[0;32mas\u001b[0m \u001b[0me\u001b[0m\u001b[0;34m:\u001b[0m\u001b[0;34m\u001b[0m\u001b[0;34m\u001b[0m\u001b[0m\n\u001b[1;32m    897\u001b[0m                 \u001b[0mself\u001b[0m\u001b[0;34m.\u001b[0m\u001b[0mlog\u001b[0m\u001b[0;34m.\u001b[0m\u001b[0mwarning\u001b[0m\u001b[0;34m(\u001b[0m\u001b[0;34m\"Invalid Message:\"\u001b[0m\u001b[0;34m,\u001b[0m \u001b[0mexc_info\u001b[0m\u001b[0;34m=\u001b[0m\u001b[0;32mTrue\u001b[0m\u001b[0;34m)\u001b[0m\u001b[0;34m\u001b[0m\u001b[0;34m\u001b[0m\u001b[0m\n",
            "\u001b[0;31mKeyboardInterrupt\u001b[0m: Interrupted by user"
          ]
        }
      ]
    }
  ]
}